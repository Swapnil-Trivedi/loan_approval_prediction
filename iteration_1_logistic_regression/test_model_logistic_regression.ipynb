{
 "cells": [
  {
   "cell_type": "code",
   "execution_count": 9,
   "metadata": {},
   "outputs": [
    {
     "name": "stdout",
     "output_type": "stream",
     "text": [
      "Predictions saved to predicted_loans.csv\n"
     ]
    }
   ],
   "source": [
    "import pandas as pd\n",
    "import joblib\n",
    "from sklearn.preprocessing import StandardScaler\n",
    "\n",
    "# Load the saved model\n",
    "model = joblib.load('loan_prediction_model_logistic_regression.joblib')\n",
    "\n",
    "# Load the new test data\n",
    "new_test_data = pd.read_csv('./dataset/test.csv')\n",
    "train_feature_columns=['id', 'person_age', 'person_income', 'person_emp_length', 'loan_amnt',\n",
    "       'loan_int_rate', 'loan_percent_income', 'cb_person_cred_hist_length',\n",
    "       'person_home_ownership_OTHER', 'person_home_ownership_OWN',\n",
    "       'person_home_ownership_RENT', 'loan_intent_EDUCATION',\n",
    "       'loan_intent_HOMEIMPROVEMENT', 'loan_intent_MEDICAL',\n",
    "       'loan_intent_PERSONAL', 'loan_intent_VENTURE', 'loan_grade_B',\n",
    "       'loan_grade_C', 'loan_grade_D', 'loan_grade_E', 'loan_grade_F',\n",
    "       'loan_grade_G', 'cb_person_default_on_file_Y']\n",
    "# Preprocess the new test data (similar to how you did for the training data)\n",
    "new_test_data_encoded = pd.get_dummies(new_test_data, columns=['person_home_ownership', 'loan_intent', 'loan_grade', 'cb_person_default_on_file'], drop_first=True)\n",
    "new_test_data_encoded = new_test_data_encoded.reindex(columns=train_feature_columns, fill_value=0)  # Align columns\n",
    "# Drop ID if necessary\n",
    "\n",
    "# Scale the new test features\n",
    "scaler=StandardScaler() # If you saved the scaler, otherwise reuse the original\n",
    "X_new_test_scaled = scaler.fit_transform(new_test_data_encoded)\n",
    "\n",
    "# Make predictions\n",
    "predictions = model.predict(X_new_test_scaled)\n",
    "\n",
    "results = pd.DataFrame({\n",
    "    'id': new_test_data['id'],  # Assuming your test data has an 'id' column\n",
    "    'loan_status': predictions\n",
    "})\n",
    "\n",
    "\n",
    "# Optionally, you can save the predictions\n",
    "results.to_csv('predicted_loans.csv', index=False)\n",
    "\n",
    "print(\"Predictions saved to predicted_loans.csv\")\n"
   ]
  },
  {
   "cell_type": "code",
   "execution_count": null,
   "metadata": {},
   "outputs": [],
   "source": []
  }
 ],
 "metadata": {
  "kernelspec": {
   "display_name": "base",
   "language": "python",
   "name": "python3"
  },
  "language_info": {
   "codemirror_mode": {
    "name": "ipython",
    "version": 3
   },
   "file_extension": ".py",
   "mimetype": "text/x-python",
   "name": "python",
   "nbconvert_exporter": "python",
   "pygments_lexer": "ipython3",
   "version": "3.9.7"
  }
 },
 "nbformat": 4,
 "nbformat_minor": 2
}
