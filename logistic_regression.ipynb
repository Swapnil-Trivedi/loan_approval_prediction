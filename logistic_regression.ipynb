{
 "cells": [
  {
   "cell_type": "code",
   "execution_count": 43,
   "metadata": {},
   "outputs": [],
   "source": [
    "#handling imports\n",
    "import pandas as pd\n",
    "from sklearn.linear_model import LogisticRegression\n",
    "from sklearn.metrics import classification_report, confusion_matrix\n",
    "from sklearn.preprocessing import StandardScaler\n",
    "from sklearn.model_selection import train_test_split"
   ]
  },
  {
   "cell_type": "code",
   "execution_count": 44,
   "metadata": {},
   "outputs": [],
   "source": [
    "#loading dataset\n",
    "train_data =pd.read_csv(\"./dataset/train.csv\")"
   ]
  },
  {
   "cell_type": "code",
   "execution_count": 45,
   "metadata": {},
   "outputs": [
    {
     "name": "stdout",
     "output_type": "stream",
     "text": [
      "   id  person_age  person_income person_home_ownership  person_emp_length  \\\n",
      "0   0          37          35000                  RENT                0.0   \n",
      "1   1          22          56000                   OWN                6.0   \n",
      "2   2          29          28800                   OWN                8.0   \n",
      "3   3          30          70000                  RENT               14.0   \n",
      "4   4          22          60000                  RENT                2.0   \n",
      "\n",
      "  loan_intent loan_grade  loan_amnt  loan_int_rate  loan_percent_income  \\\n",
      "0   EDUCATION          B       6000          11.49                 0.17   \n",
      "1     MEDICAL          C       4000          13.35                 0.07   \n",
      "2    PERSONAL          A       6000           8.90                 0.21   \n",
      "3     VENTURE          B      12000          11.11                 0.17   \n",
      "4     MEDICAL          A       6000           6.92                 0.10   \n",
      "\n",
      "  cb_person_default_on_file  cb_person_cred_hist_length  loan_status  \n",
      "0                         N                          14            0  \n",
      "1                         N                           2            0  \n",
      "2                         N                          10            0  \n",
      "3                         N                           5            0  \n",
      "4                         N                           3            0  \n"
     ]
    }
   ],
   "source": [
    "#basic data exploration\n",
    "print(train_data.head())"
   ]
  },
  {
   "cell_type": "code",
   "execution_count": 46,
   "metadata": {},
   "outputs": [
    {
     "name": "stdout",
     "output_type": "stream",
     "text": [
      "id                            0\n",
      "person_age                    0\n",
      "person_income                 0\n",
      "person_home_ownership         0\n",
      "person_emp_length             0\n",
      "loan_intent                   0\n",
      "loan_grade                    0\n",
      "loan_amnt                     0\n",
      "loan_int_rate                 0\n",
      "loan_percent_income           0\n",
      "cb_person_default_on_file     0\n",
      "cb_person_cred_hist_length    0\n",
      "loan_status                   0\n",
      "dtype: int64\n"
     ]
    }
   ],
   "source": [
    "#checking for missing values\n",
    "print(train_data.isnull().sum())"
   ]
  },
  {
   "cell_type": "code",
   "execution_count": 47,
   "metadata": {},
   "outputs": [
    {
     "name": "stdout",
     "output_type": "stream",
     "text": [
      "<class 'pandas.core.frame.DataFrame'>\n",
      "RangeIndex: 58645 entries, 0 to 58644\n",
      "Data columns (total 13 columns):\n",
      " #   Column                      Non-Null Count  Dtype  \n",
      "---  ------                      --------------  -----  \n",
      " 0   id                          58645 non-null  int64  \n",
      " 1   person_age                  58645 non-null  int64  \n",
      " 2   person_income               58645 non-null  int64  \n",
      " 3   person_home_ownership       58645 non-null  object \n",
      " 4   person_emp_length           58645 non-null  float64\n",
      " 5   loan_intent                 58645 non-null  object \n",
      " 6   loan_grade                  58645 non-null  object \n",
      " 7   loan_amnt                   58645 non-null  int64  \n",
      " 8   loan_int_rate               58645 non-null  float64\n",
      " 9   loan_percent_income         58645 non-null  float64\n",
      " 10  cb_person_default_on_file   58645 non-null  object \n",
      " 11  cb_person_cred_hist_length  58645 non-null  int64  \n",
      " 12  loan_status                 58645 non-null  int64  \n",
      "dtypes: float64(3), int64(6), object(4)\n",
      "memory usage: 5.8+ MB\n",
      "None\n"
     ]
    }
   ],
   "source": [
    "print(train_data.info())"
   ]
  },
  {
   "cell_type": "code",
   "execution_count": 48,
   "metadata": {},
   "outputs": [
    {
     "name": "stdout",
     "output_type": "stream",
     "text": [
      "                 id    person_age  person_income  person_emp_length  \\\n",
      "count  58645.000000  58645.000000   5.864500e+04       58645.000000   \n",
      "mean   29322.000000     27.550857   6.404617e+04           4.701015   \n",
      "std    16929.497605      6.033216   3.793111e+04           3.959784   \n",
      "min        0.000000     20.000000   4.200000e+03           0.000000   \n",
      "25%    14661.000000     23.000000   4.200000e+04           2.000000   \n",
      "50%    29322.000000     26.000000   5.800000e+04           4.000000   \n",
      "75%    43983.000000     30.000000   7.560000e+04           7.000000   \n",
      "max    58644.000000    123.000000   1.900000e+06         123.000000   \n",
      "\n",
      "          loan_amnt  loan_int_rate  loan_percent_income  \\\n",
      "count  58645.000000   58645.000000         58645.000000   \n",
      "mean    9217.556518      10.677874             0.159238   \n",
      "std     5563.807384       3.034697             0.091692   \n",
      "min      500.000000       5.420000             0.000000   \n",
      "25%     5000.000000       7.880000             0.090000   \n",
      "50%     8000.000000      10.750000             0.140000   \n",
      "75%    12000.000000      12.990000             0.210000   \n",
      "max    35000.000000      23.220000             0.830000   \n",
      "\n",
      "       cb_person_cred_hist_length   loan_status  \n",
      "count                58645.000000  58645.000000  \n",
      "mean                     5.813556      0.142382  \n",
      "std                      4.029196      0.349445  \n",
      "min                      2.000000      0.000000  \n",
      "25%                      3.000000      0.000000  \n",
      "50%                      4.000000      0.000000  \n",
      "75%                      8.000000      0.000000  \n",
      "max                     30.000000      1.000000  \n"
     ]
    }
   ],
   "source": [
    "print(train_data.describe())"
   ]
  },
  {
   "cell_type": "code",
   "execution_count": 49,
   "metadata": {},
   "outputs": [
    {
     "name": "stdout",
     "output_type": "stream",
     "text": [
      "   id  person_age  person_income  person_emp_length  loan_amnt  loan_int_rate  \\\n",
      "0   0          37          35000                0.0       6000          11.49   \n",
      "1   1          22          56000                6.0       4000          13.35   \n",
      "2   2          29          28800                8.0       6000           8.90   \n",
      "3   3          30          70000               14.0      12000          11.11   \n",
      "4   4          22          60000                2.0       6000           6.92   \n",
      "\n",
      "   loan_percent_income  cb_person_cred_hist_length  loan_status  \\\n",
      "0                 0.17                          14            0   \n",
      "1                 0.07                           2            0   \n",
      "2                 0.21                          10            0   \n",
      "3                 0.17                           5            0   \n",
      "4                 0.10                           3            0   \n",
      "\n",
      "   person_home_ownership_OTHER  ...  loan_intent_MEDICAL  \\\n",
      "0                            0  ...                    0   \n",
      "1                            0  ...                    1   \n",
      "2                            0  ...                    0   \n",
      "3                            0  ...                    0   \n",
      "4                            0  ...                    1   \n",
      "\n",
      "   loan_intent_PERSONAL  loan_intent_VENTURE  loan_grade_B  loan_grade_C  \\\n",
      "0                     0                    0             1             0   \n",
      "1                     0                    0             0             1   \n",
      "2                     1                    0             0             0   \n",
      "3                     0                    1             1             0   \n",
      "4                     0                    0             0             0   \n",
      "\n",
      "   loan_grade_D  loan_grade_E  loan_grade_F  loan_grade_G  \\\n",
      "0             0             0             0             0   \n",
      "1             0             0             0             0   \n",
      "2             0             0             0             0   \n",
      "3             0             0             0             0   \n",
      "4             0             0             0             0   \n",
      "\n",
      "   cb_person_default_on_file_Y  \n",
      "0                            0  \n",
      "1                            0  \n",
      "2                            0  \n",
      "3                            0  \n",
      "4                            0  \n",
      "\n",
      "[5 rows x 24 columns]\n"
     ]
    }
   ],
   "source": [
    "#encoding categorical data\n",
    "train_data_encoded = pd.get_dummies(train_data,columns=['person_home_ownership', 'loan_intent', 'loan_grade', 'cb_person_default_on_file'], drop_first=True)\n",
    "print(train_data_encoded.head())"
   ]
  },
  {
   "cell_type": "code",
   "execution_count": 50,
   "metadata": {},
   "outputs": [
    {
     "name": "stdout",
     "output_type": "stream",
     "text": [
      "<class 'pandas.core.frame.DataFrame'>\n",
      "RangeIndex: 58645 entries, 0 to 58644\n",
      "Data columns (total 24 columns):\n",
      " #   Column                       Non-Null Count  Dtype  \n",
      "---  ------                       --------------  -----  \n",
      " 0   id                           58645 non-null  int64  \n",
      " 1   person_age                   58645 non-null  int64  \n",
      " 2   person_income                58645 non-null  int64  \n",
      " 3   person_emp_length            58645 non-null  float64\n",
      " 4   loan_amnt                    58645 non-null  int64  \n",
      " 5   loan_int_rate                58645 non-null  float64\n",
      " 6   loan_percent_income          58645 non-null  float64\n",
      " 7   cb_person_cred_hist_length   58645 non-null  int64  \n",
      " 8   loan_status                  58645 non-null  int64  \n",
      " 9   person_home_ownership_OTHER  58645 non-null  uint8  \n",
      " 10  person_home_ownership_OWN    58645 non-null  uint8  \n",
      " 11  person_home_ownership_RENT   58645 non-null  uint8  \n",
      " 12  loan_intent_EDUCATION        58645 non-null  uint8  \n",
      " 13  loan_intent_HOMEIMPROVEMENT  58645 non-null  uint8  \n",
      " 14  loan_intent_MEDICAL          58645 non-null  uint8  \n",
      " 15  loan_intent_PERSONAL         58645 non-null  uint8  \n",
      " 16  loan_intent_VENTURE          58645 non-null  uint8  \n",
      " 17  loan_grade_B                 58645 non-null  uint8  \n",
      " 18  loan_grade_C                 58645 non-null  uint8  \n",
      " 19  loan_grade_D                 58645 non-null  uint8  \n",
      " 20  loan_grade_E                 58645 non-null  uint8  \n",
      " 21  loan_grade_F                 58645 non-null  uint8  \n",
      " 22  loan_grade_G                 58645 non-null  uint8  \n",
      " 23  cb_person_default_on_file_Y  58645 non-null  uint8  \n",
      "dtypes: float64(3), int64(6), uint8(15)\n",
      "memory usage: 4.9 MB\n",
      "None\n"
     ]
    }
   ],
   "source": [
    "print(train_data_encoded.info())"
   ]
  },
  {
   "cell_type": "code",
   "execution_count": 64,
   "metadata": {},
   "outputs": [
    {
     "name": "stdout",
     "output_type": "stream",
     "text": [
      "Index(['id', 'person_age', 'person_income', 'person_emp_length', 'loan_amnt',\n",
      "       'loan_int_rate', 'loan_percent_income', 'cb_person_cred_hist_length',\n",
      "       'person_home_ownership_OTHER', 'person_home_ownership_OWN',\n",
      "       'person_home_ownership_RENT', 'loan_intent_EDUCATION',\n",
      "       'loan_intent_HOMEIMPROVEMENT', 'loan_intent_MEDICAL',\n",
      "       'loan_intent_PERSONAL', 'loan_intent_VENTURE', 'loan_grade_B',\n",
      "       'loan_grade_C', 'loan_grade_D', 'loan_grade_E', 'loan_grade_F',\n",
      "       'loan_grade_G', 'cb_person_default_on_file_Y'],\n",
      "      dtype='object')\n"
     ]
    }
   ],
   "source": [
    "#describing feature and target variable\n",
    "train_feature=train_data_encoded.drop('loan_status',axis=1) #everything except loan_status\n",
    "train_target=train_data_encoded['loan_status']\n",
    "\n",
    "print(train_feature.columns)"
   ]
  },
  {
   "cell_type": "code",
   "execution_count": 54,
   "metadata": {},
   "outputs": [],
   "source": [
    "#splitting train and test data 80-20 split\n",
    "X_train, X_test, y_train, y_test = train_test_split(train_feature, train_target, test_size=0.2, random_state=42)"
   ]
  },
  {
   "cell_type": "code",
   "execution_count": 56,
   "metadata": {},
   "outputs": [],
   "source": [
    "#scaling data our feature data for test and train set\n",
    "scaler=StandardScaler()\n",
    "x_train_scaled=scaler.fit_transform(X_train)\n",
    "x_test_scaled=scaler.fit_transform(X_test)"
   ]
  },
  {
   "cell_type": "code",
   "execution_count": 58,
   "metadata": {},
   "outputs": [],
   "source": [
    "#logistic regression model\n",
    "model=LogisticRegression()"
   ]
  },
  {
   "cell_type": "code",
   "execution_count": 59,
   "metadata": {},
   "outputs": [
    {
     "data": {
      "text/plain": [
       "LogisticRegression()"
      ]
     },
     "execution_count": 59,
     "metadata": {},
     "output_type": "execute_result"
    }
   ],
   "source": [
    "#training model\n",
    "model.fit(x_train_scaled,y_train)"
   ]
  },
  {
   "cell_type": "code",
   "execution_count": 60,
   "metadata": {},
   "outputs": [],
   "source": [
    "y_test_pred=model.predict(x_test_scaled)"
   ]
  },
  {
   "cell_type": "code",
   "execution_count": 61,
   "metadata": {},
   "outputs": [
    {
     "name": "stdout",
     "output_type": "stream",
     "text": [
      "[[9835  252]\n",
      " [ 774  868]]\n"
     ]
    }
   ],
   "source": [
    "from sklearn.metrics import confusion_matrix, classification_report\n",
    "\n",
    "print(confusion_matrix(y_test,y_test_pred))"
   ]
  },
  {
   "cell_type": "code",
   "execution_count": 62,
   "metadata": {},
   "outputs": [
    {
     "name": "stdout",
     "output_type": "stream",
     "text": [
      "              precision    recall  f1-score   support\n",
      "\n",
      "           0       0.93      0.98      0.95     10087\n",
      "           1       0.78      0.53      0.63      1642\n",
      "\n",
      "    accuracy                           0.91     11729\n",
      "   macro avg       0.85      0.75      0.79     11729\n",
      "weighted avg       0.91      0.91      0.91     11729\n",
      "\n"
     ]
    }
   ],
   "source": [
    "print(classification_report(y_test,y_test_pred))"
   ]
  },
  {
   "cell_type": "code",
   "execution_count": 63,
   "metadata": {},
   "outputs": [
    {
     "data": {
      "text/plain": [
       "['./loan_prediction_model_logistic_regression.joblib']"
      ]
     },
     "execution_count": 63,
     "metadata": {},
     "output_type": "execute_result"
    }
   ],
   "source": [
    "import joblib\n",
    "\n",
    "# Save the model\n",
    "joblib.dump(model, './loan_prediction_model_logistic_regression.joblib')\n"
   ]
  },
  {
   "cell_type": "code",
   "execution_count": null,
   "metadata": {},
   "outputs": [],
   "source": []
  }
 ],
 "metadata": {
  "kernelspec": {
   "display_name": "base",
   "language": "python",
   "name": "python3"
  },
  "language_info": {
   "codemirror_mode": {
    "name": "ipython",
    "version": 3
   },
   "file_extension": ".py",
   "mimetype": "text/x-python",
   "name": "python",
   "nbconvert_exporter": "python",
   "pygments_lexer": "ipython3",
   "version": "3.9.7"
  }
 },
 "nbformat": 4,
 "nbformat_minor": 2
}
